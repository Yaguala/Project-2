{
 "cells": [
  {
   "cell_type": "code",
   "execution_count": 10,
   "id": "f5dc881e",
   "metadata": {},
   "outputs": [
    {
     "name": "stdout",
     "output_type": "stream",
     "text": [
      "https://image.tmdb.org/t/p/w500/qxJAam675KDRIrT5KMYMOMVHBqQ.jpg\n"
     ]
    }
   ],
   "source": [
    "import pandas as pd\n",
    "\n",
    "df_movies = pd.read_csv(\"films_final.csv\")\n",
    "film_id = df_movies[df_movies[\"title\"].str.contains(\"Le plaisir\")]\n",
    "img4 = film_id['poster_path'].iloc[0]\n",
    "print(img4)"
   ]
  },
  {
   "cell_type": "code",
   "execution_count": null,
   "id": "efb534ab",
   "metadata": {},
   "outputs": [],
   "source": [
    "container = st.container(border=True)\n",
    "container.write(\"This is inside the container\")\n",
    "st.write(\"This is outside the container\")\n",
    "\n",
    "# Now insert some more in the container\n",
    "container.write(\"This is inside too\")\n"
   ]
  },
  {
   "cell_type": "code",
   "execution_count": null,
   "id": "2479373a",
   "metadata": {},
   "outputs": [
    {
     "ename": "",
     "evalue": "",
     "output_type": "error",
     "traceback": [
      "\u001b[1;31mThe kernel failed to start as the Python Environment 'Python 3.11.9' is no longer available. Consider selecting another kernel or refreshing the list of Python Environments."
     ]
    }
   ],
   "source": [
    "df_inter = pd.read_csv('projet_2\\data\\intervenantes_final.csv')"
   ]
  }
 ],
 "metadata": {
  "kernelspec": {
   "display_name": ".venvstreamlit",
   "language": "python",
   "name": "python3"
  },
  "language_info": {
   "codemirror_mode": {
    "name": "ipython",
    "version": 3
   },
   "file_extension": ".py",
   "mimetype": "text/x-python",
   "name": "python",
   "nbconvert_exporter": "python",
   "pygments_lexer": "ipython3",
   "version": "3.11.9"
  }
 },
 "nbformat": 4,
 "nbformat_minor": 5
}
